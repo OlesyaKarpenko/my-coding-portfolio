{
 "cells": [
  {
   "cell_type": "code",
   "execution_count": 5,
   "id": "5b1d8e54",
   "metadata": {},
   "outputs": [],
   "source": [
    "import os, json, io, nltk, re\n",
    "from collections import Counter \n",
    "from dataclasses import dataclass"
   ]
  },
  {
   "cell_type": "code",
   "execution_count": 6,
   "id": "c0fb35bf",
   "metadata": {},
   "outputs": [],
   "source": [
    "path_to_folder = \"C:/Users/monte/_Olesya/Диплом/Основная папка/задание/Distances_between_articles_cat_NLP\"\n",
    "categ = json.load(open(\"C:/Users/monte/_Olesya/Диплом/Основная папка/задание/NatLangProc_Categ.json\", \"r\", encoding=\"utf-8\"))"
   ]
  },
  {
   "cell_type": "code",
   "execution_count": 7,
   "id": "78701b98",
   "metadata": {},
   "outputs": [],
   "source": [
    "@dataclass\n",
    "class dist_to_root_art:\n",
    "    idx: int\n",
    "    art_name: str    \n",
    "    distance: float\n",
    "        \n",
    "def my_comp_distance(x):\n",
    "    return x.distance"
   ]
  },
  {
   "cell_type": "code",
   "execution_count": 8,
   "id": "a2679248",
   "metadata": {},
   "outputs": [],
   "source": [
    "def closest_art_sqr (name):\n",
    "    art_dict = json.load(open(path_to_folder + \"/\" + name + \".json\", \"r\", encoding=\"utf-8\"))\n",
    "    sum_sqr_list = []\n",
    "    for i in art_dict:\n",
    "        sum_sqr = 0\n",
    "        for j in art_dict[i][\"distances\"]:\n",
    "            sum_sqr += art_dict[i][\"distances\"][j][\"distance\"]\n",
    "        sum_sqr_list.append(dist_to_root_art(i, art_dict[i][\"art_name\"], sum_sqr ** (1 / 2)))\n",
    "    return max(sum_sqr_list, key = my_comp_distance).art_name\n",
    "\n",
    "def closest_art_sum (name):\n",
    "    art_dict = json.load(open(path_to_folder + \"/\" + name + \".json\", \"r\", encoding=\"utf-8\"))\n",
    "    sum_list = []\n",
    "    for i in art_dict:\n",
    "        sum_el = 0\n",
    "        for j in art_dict[i][\"distances\"]:\n",
    "            sum_el += art_dict[i][\"distances\"][j][\"distance\"]\n",
    "        sum_list.append(dist_to_root_art(i, art_dict[i][\"art_name\"], sum_el ** (1 / 2)))\n",
    "    return max(sum_list, key = my_comp_distance).art_name\n",
    "\n",
    "def main_art (name):\n",
    "    return categ[name][3]"
   ]
  },
  {
   "cell_type": "code",
   "execution_count": 23,
   "id": "212ea7cb",
   "metadata": {},
   "outputs": [],
   "source": [
    "def print_cat_main_closest (name, name_json):\n",
    "    print(\"Category name: \" + name + \"\\n\")\n",
    "    print(\"Main articles: \")\n",
    "    list_art = ()\n",
    "    list_art = main_art(name)\n",
    "    if (list_art != []):\n",
    "        for i in range(len(list_art)):\n",
    "            print(list_art[i] + \", \")\n",
    "    print(\"\\n\" +  \"Closest article: \" + closest_art_sum(name_json))\n",
    "    print(\"-\"*100)"
   ]
  },
  {
   "cell_type": "code",
   "execution_count": 24,
   "id": "e34de396",
   "metadata": {},
   "outputs": [
    {
     "name": "stdout",
     "output_type": "stream",
     "text": [
      "Category name: Natural language processing\n",
      "\n",
      "Main articles: \n",
      "Natural language processing, \n",
      "\n",
      "Closest article: Outline of natural language processing\n",
      "----------------------------------------------------------------------------------------------------\n",
      "Category name: Corpus linguistics\n",
      "\n",
      "Main articles: \n",
      "Corpus linguistics, \n",
      "\n",
      "Closest article: WordNet\n",
      "----------------------------------------------------------------------------------------------------\n",
      "Category name: Finite automata\n",
      "\n",
      "Main articles: \n",
      "Finite-state machine, \n",
      "\n",
      "Closest article: Deterministic finite automaton\n",
      "----------------------------------------------------------------------------------------------------\n",
      "Category name: Machine translation\n",
      "\n",
      "Main articles: \n",
      "Machine translation, \n",
      "\n",
      "Closest article: Machine translation\n",
      "----------------------------------------------------------------------------------------------------\n",
      "Category name: Natural language generation\n",
      "\n",
      "Main articles: \n",
      "Natural language generation, \n",
      "\n",
      "Closest article: Automated journalism\n",
      "----------------------------------------------------------------------------------------------------\n",
      "Category name: Natural language processing software\n",
      "\n",
      "Main articles: \n"
     ]
    },
    {
     "ename": "TypeError",
     "evalue": "object of type 'NoneType' has no len()",
     "output_type": "error",
     "traceback": [
      "\u001b[1;31m---------------------------------------------------------------------------\u001b[0m",
      "\u001b[1;31mTypeError\u001b[0m                                 Traceback (most recent call last)",
      "Cell \u001b[1;32mIn[24], line 6\u001b[0m\n\u001b[0;32m      4\u001b[0m print_cat_main_closest(\u001b[38;5;124m\"\u001b[39m\u001b[38;5;124mMachine translation\u001b[39m\u001b[38;5;124m\"\u001b[39m, \u001b[38;5;124m\"\u001b[39m\u001b[38;5;124mMT_distances_result\u001b[39m\u001b[38;5;124m\"\u001b[39m)\n\u001b[0;32m      5\u001b[0m print_cat_main_closest(\u001b[38;5;124m\"\u001b[39m\u001b[38;5;124mNatural language generation\u001b[39m\u001b[38;5;124m\"\u001b[39m, \u001b[38;5;124m\"\u001b[39m\u001b[38;5;124mNLG_distances_result\u001b[39m\u001b[38;5;124m\"\u001b[39m)\n\u001b[1;32m----> 6\u001b[0m print_cat_main_closest(\u001b[38;5;124m\"\u001b[39m\u001b[38;5;124mNatural language processing software\u001b[39m\u001b[38;5;124m\"\u001b[39m, \u001b[38;5;124m\"\u001b[39m\u001b[38;5;124mNLPS_distances_result\u001b[39m\u001b[38;5;124m\"\u001b[39m)\n\u001b[0;32m      7\u001b[0m print_cat_main_closest(\u001b[38;5;124m\"\u001b[39m\u001b[38;5;124mOptical character recognition\u001b[39m\u001b[38;5;124m\"\u001b[39m, \u001b[38;5;124m\"\u001b[39m\u001b[38;5;124mOCR_distances_result\u001b[39m\u001b[38;5;124m\"\u001b[39m)\n\u001b[0;32m      8\u001b[0m print_cat_main_closest(\u001b[38;5;124m\"\u001b[39m\u001b[38;5;124mNatural language processing researchers\u001b[39m\u001b[38;5;124m\"\u001b[39m, \u001b[38;5;124m\"\u001b[39m\u001b[38;5;124mNLPR_distances_result\u001b[39m\u001b[38;5;124m\"\u001b[39m)\n",
      "Cell \u001b[1;32mIn[23], line 7\u001b[0m, in \u001b[0;36mprint_cat_main_closest\u001b[1;34m(name, name_json)\u001b[0m\n\u001b[0;32m      5\u001b[0m list_art \u001b[38;5;241m=\u001b[39m main_art(name)\n\u001b[0;32m      6\u001b[0m \u001b[38;5;28;01mif\u001b[39;00m (list_art \u001b[38;5;241m!=\u001b[39m []):\n\u001b[1;32m----> 7\u001b[0m     \u001b[38;5;28;01mfor\u001b[39;00m i \u001b[38;5;129;01min\u001b[39;00m \u001b[38;5;28mrange\u001b[39m(\u001b[38;5;28mlen\u001b[39m(list_art)):\n\u001b[0;32m      8\u001b[0m         \u001b[38;5;28mprint\u001b[39m(list_art[i] \u001b[38;5;241m+\u001b[39m \u001b[38;5;124m\"\u001b[39m\u001b[38;5;124m, \u001b[39m\u001b[38;5;124m\"\u001b[39m)\n\u001b[0;32m      9\u001b[0m \u001b[38;5;28mprint\u001b[39m(\u001b[38;5;124m\"\u001b[39m\u001b[38;5;130;01m\\n\u001b[39;00m\u001b[38;5;124m\"\u001b[39m \u001b[38;5;241m+\u001b[39m  \u001b[38;5;124m\"\u001b[39m\u001b[38;5;124mClosest article: \u001b[39m\u001b[38;5;124m\"\u001b[39m \u001b[38;5;241m+\u001b[39m closest_art_sum(name_json))\n",
      "\u001b[1;31mTypeError\u001b[0m: object of type 'NoneType' has no len()"
     ]
    }
   ],
   "source": [
    "print_cat_main_closest(\"Natural language processing\", \"NLP_distances_result\")\n",
    "print_cat_main_closest(\"Corpus linguistics\", \"CL_distances_result\")\n",
    "print_cat_main_closest(\"Finite automata\", \"FA_distances_result\")\n",
    "print_cat_main_closest(\"Machine translation\", \"MT_distances_result\")\n",
    "print_cat_main_closest(\"Natural language generation\", \"NLG_distances_result\")\n",
    "print_cat_main_closest(\"Natural language processing software\", \"NLPS_distances_result\")\n",
    "print_cat_main_closest(\"Optical character recognition\", \"OCR_distances_result\")\n",
    "print_cat_main_closest(\"Natural language processing researchers\", \"NLPR_distances_result\")\n",
    "print_cat_main_closest(\"Statistical natural language processing\", \"SNLP_distances_result\")\n",
    "print_cat_main_closest(\"Tasks of natural language processing\", \"TNLP_distances_result\")"
   ]
  },
  {
   "cell_type": "code",
   "execution_count": null,
   "id": "2f419e8c",
   "metadata": {},
   "outputs": [],
   "source": []
  }
 ],
 "metadata": {
  "kernelspec": {
   "display_name": "Python 3 (ipykernel)",
   "language": "python",
   "name": "python3"
  },
  "language_info": {
   "codemirror_mode": {
    "name": "ipython",
    "version": 3
   },
   "file_extension": ".py",
   "mimetype": "text/x-python",
   "name": "python",
   "nbconvert_exporter": "python",
   "pygments_lexer": "ipython3",
   "version": "3.11.4"
  }
 },
 "nbformat": 4,
 "nbformat_minor": 5
}
