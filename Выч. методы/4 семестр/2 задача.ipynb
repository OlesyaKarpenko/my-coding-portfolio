{
 "cells": [
  {
   "cell_type": "code",
   "execution_count": 15,
   "id": "81e859c0",
   "metadata": {},
   "outputs": [],
   "source": [
    "import matplotlib.pyplot as plt\n",
    "import numpy as np\n",
    "import math"
   ]
  },
  {
   "cell_type": "code",
   "execution_count": 17,
   "id": "49183cf6",
   "metadata": {},
   "outputs": [],
   "source": [
    "a = math.pi/2\n",
    "b = 3*math.pi/2\n",
    "c = math.pi/2\n",
    "d = 3*math.pi/2"
   ]
  },
  {
   "cell_type": "code",
   "execution_count": 19,
   "id": "f9bc76a9",
   "metadata": {},
   "outputs": [],
   "source": [
    "def u(x, y):\n",
    "    return math.cos(x+y) * math.sin(x*y)"
   ]
  },
  {
   "cell_type": "code",
   "execution_count": 21,
   "id": "d90080e8",
   "metadata": {},
   "outputs": [],
   "source": [
    "def f(x, y):\n",
    "    return - math.cos(x+y)*math.sin(x*y)*(2 + x**2 + y**2) - 2*math.sin(x+y)*math.cos(x*y)*(x+y)"
   ]
  },
  {
   "cell_type": "code",
   "execution_count": 23,
   "id": "0dd61f00",
   "metadata": {},
   "outputs": [],
   "source": [
    "def answer(Nx, Ny):\n",
    "    u_exact = []\n",
    "    for i in range(Nx+1):\n",
    "        u_exact.append([0]*(Ny+1))\n",
    " \n",
    "    x = np.linspace(a, b, Nx+1)\n",
    "    y = np.linspace(c, d, Ny+1)\n",
    " \n",
    "    for i in range(Nx+1):\n",
    "        for j in range(Ny+1):\n",
    "            u_exact[i][j] = u(x[i], y[j])\n",
    " \n",
    "    return u_exact"
   ]
  },
  {
   "cell_type": "code",
   "execution_count": 26,
   "id": "3a6409ed",
   "metadata": {},
   "outputs": [],
   "source": [
    "def discrepancy(v, Nx, Ny):\n",
    "    x = np.linspace(a, b, Nx+1)\n",
    "    y = np.linspace(c, d, Ny+1)\n",
    " \n",
    "    hx = (b-a)/Nx\n",
    "    hy = (d-c)/Ny\n",
    " \n",
    "    max_dis = 0\n",
    "    dis = 0\n",
    " \n",
    "    for i in range(1, Nx):\n",
    "        for j in range(1, Ny):\n",
    "            dis = abs((v[i-1][j] - 2*v[i][j] + v[i+1][j])/(hx**2) + (v[i][j-1] - 2*v[i][j] + v[i][j+1])/(hy**2) - f(x[i], y[j]))\n",
    "            if (dis > max_dis):\n",
    "                max_dis = dis\n",
    "    return max_dis"
   ]
  },
  {
   "cell_type": "code",
   "execution_count": 36,
   "id": "6699e866",
   "metadata": {},
   "outputs": [],
   "source": [
    "def Solve(Nx, Ny, Eps):\n",
    " \n",
    "    x = np.linspace(a, b, Nx+1)\n",
    "    y = np.linspace(c, d, Ny+1)\n",
    " \n",
    "    hx = (b-a)/Nx\n",
    "    hy = (d-c)/Ny\n",
    "    tau = 1/5000\n",
    " \n",
    "    v = []\n",
    "    for i in range(Nx+1):\n",
    "        v.append([0]*(Ny+1))\n",
    " \n",
    "    v_new = []\n",
    "    for i in range(Nx+1): \n",
    "        v_new.append([0]*(Ny+1))\n",
    "    \n",
    "    v_newest = []\n",
    "    for i in range(Nx+1):\n",
    "        v_newest.append([0]*(Ny+1))\n",
    " \n",
    "    # на границе прямоугольной области задано значение функции\n",
    "    for j in range(Ny+1):\n",
    "        v[0][j] = u(a, y[j])\n",
    "        v[Nx][j] = u(b, y[j])\n",
    " \n",
    "        v_new[0][j] = 0\n",
    "        v_new[Nx][j] = 0\n",
    "        \n",
    "        v_newest[0][j] = 0\n",
    "        v_newest[Nx][j] = 0\n",
    " \n",
    "    for i in range(Nx+1):\n",
    "        v[i][0] = u(x[i], c)\n",
    "        v[i][Ny] = u(x[i], d)\n",
    " \n",
    "        v_new[i][0] = 0\n",
    "        v_new[i][Ny] = 0\n",
    "        \n",
    "        v_newest[i][0] = 0\n",
    "        v_newest[i][Ny] = 0\n",
    "\n",
    " \n",
    "    time = 0\n",
    " \n",
    "    while(discrepancy(v, Nx, Ny) > Eps): \n",
    "       # 1 шаг: прогонка по х, цикл по у, получаем v на слое time+1/2\n",
    "        for j in range(1, Ny):\n",
    "            A = -tau/(hx**2)/2\n",
    "            B = 1 - tau/(hx**2)\n",
    "            C = -tau/(hx**2)/2\n",
    "            G = [0]*Nx\n",
    "            for i in range(Nx):\n",
    "                G[i] = (v[i-1][j] - 2 * v[i][j] + v[i+1][j]) / (hx**2) + (v[i][j+1] - 2 * v[i][j] + v[i][j-1]) / (hy**2) - f(x[i], y[j])\n",
    " \n",
    "            # вычисляем прогоночные коэффициенты:\n",
    "            P = [0]*Nx\n",
    "            Q = [0]*Nx\n",
    "            P[0] = 0\n",
    "            Q[0] = 0\n",
    "            for i in range(1, Nx):\n",
    "                P[i] = -C/(A*P[i-1] + B)\n",
    "                Q[i] = (G[i] - A*Q[i-1]) / (A*P[i-1] + B)\n",
    " \n",
    "            for i in range(Nx-1, 0, -1):\n",
    "                v_new[i][j] = P[i]*v_new[i+1][j] + Q[i]\n",
    " \n",
    "        time = time + 1/2\n",
    "\n",
    " \n",
    "        # 2 шаг: прогонка по y, цикл по x, получаем v на слое time+1\n",
    "        for i in range(1, Nx):\n",
    "            A = -tau/(hy**2)/2\n",
    "            B =  1 - tau/(hy**2)\n",
    "            C = -tau/(hy**2)/2\n",
    "            G = [0]*Ny\n",
    "            for j in range(Ny):\n",
    "                G[j] = v_new[i][j]\n",
    " \n",
    "            # вычисляем прогоночные коэффициенты:\n",
    "            P = [0]*Ny\n",
    "            Q = [0]*Ny\n",
    "            P[0] = 0\n",
    "            Q[0] = 0\n",
    "            for j in range(1, Ny):\n",
    "                P[j] = -C/(A*P[j-1] + B)\n",
    "                Q[j] = (G[j] - A*Q[j-1]) / (A*P[j-1] + B)\n",
    " \n",
    "            for j in range(Ny-1, 0, -1):\n",
    "                v_newest[i][j] = P[j]*v_newest[i][j+1] + Q[j]\n",
    " \n",
    "        time = time + 1/2\n",
    "        for i in range(1, Nx):\n",
    "            for j in range(1, Ny):\n",
    "                v[i][j] = tau * v_newest[i][j] + v[i][j]\n",
    "                v_new[i][j] = 0\n",
    "                v_newest[i][j] = 0\n",
    "\n",
    "    return v\n",
    " \n"
   ]
  },
  {
   "cell_type": "code",
   "execution_count": 37,
   "id": "fb51262b",
   "metadata": {},
   "outputs": [],
   "source": [
    "def error(Eps, N):\n",
    "    #N = [10, 20]\n",
    "    #Err = [0]*2\n",
    "    print('Относительная ошибка метода:')\n",
    "    print('Сетка Nx/Ny =          Ошибка')\n",
    "    print('-----------------------------------')\n",
    "   # for n in range(3):\n",
    "    u = Solve(N, N, Eps)\n",
    "    u_exact = answer(N, N)\n",
    "    max_err = 0\n",
    "    for i in range(N+1):\n",
    "        for j in range(N+1):\n",
    "            err = abs(u[i][j]-u_exact[i][j])\n",
    "            if (err > max_err):\n",
    "                max_err = err\n",
    "    Err = max_err \n",
    "    print(N, N, '          ' ,max_err)\n",
    "   # plt.plot(N, Err, color='red')\n",
    "    #plt.grid()\n",
    "    #plt.show()\n",
    " "
   ]
  },
  {
   "cell_type": "code",
   "execution_count": 44,
   "id": "73884539",
   "metadata": {},
   "outputs": [],
   "source": [
    "def result(Eps,N):\n",
    "   # N = [10, 20, 40]\n",
    "    #for i in range(3):\n",
    "    y = np.linspace(c, d, N+1)\n",
    "    u = Solve(N, N, Eps)[N//2]\n",
    "    plt.plot(y, u, color='red')\n",
    "    plt.grid()\n",
    " \n",
    "    y = np.linspace(c, d, 81)\n",
    "    plt.plot(y, answer(80, 80)[40], color='green')\n",
    "    plt.xlabel('Ось y')\n",
    "    plt.ylabel('Ось u')\n",
    "    plt.show()"
   ]
  },
  {
   "cell_type": "code",
   "execution_count": 39,
   "id": "dcea37a7",
   "metadata": {},
   "outputs": [
    {
     "name": "stdout",
     "output_type": "stream",
     "text": [
      "Относительная ошибка метода:\n",
      "Сетка Nx/Ny =          Ошибка\n",
      "-----------------------------------\n",
      "10 10            0.15068796378296073\n"
     ]
    }
   ],
   "source": [
    "error(0.0001,10)"
   ]
  },
  {
   "cell_type": "code",
   "execution_count": 40,
   "id": "6a6aa714",
   "metadata": {},
   "outputs": [
    {
     "name": "stdout",
     "output_type": "stream",
     "text": [
      "Относительная ошибка метода:\n",
      "Сетка Nx/Ny =          Ошибка\n",
      "-----------------------------------\n",
      "20 20            0.03623330286203108\n"
     ]
    }
   ],
   "source": [
    "error(0.0001,20)"
   ]
  },
  {
   "cell_type": "code",
   "execution_count": 41,
   "id": "500a45bb",
   "metadata": {},
   "outputs": [
    {
     "name": "stdout",
     "output_type": "stream",
     "text": [
      "Относительная ошибка метода:\n",
      "Сетка Nx/Ny =          Ошибка\n",
      "-----------------------------------\n",
      "40 40            0.008689909776640137\n"
     ]
    }
   ],
   "source": [
    "error(0.0001,40)"
   ]
  },
  {
   "cell_type": "code",
   "execution_count": 45,
   "id": "6cba2bd6",
   "metadata": {},
   "outputs": [
    {
     "data": {
      "image/png": "[encoded data removed]",
      "text/plain": [
       "<Figure size 640x480 with 1 Axes>"
      ]
     },
     "metadata": {},
     "output_type": "display_data"
    }
   ],
   "source": [
    "result(0.0001,10)"
   ]
  },
  {
   "cell_type": "code",
   "execution_count": null,
   "id": "4e4f93cc",
   "metadata": {},
   "outputs": [],
   "source": []
  }
 ],
 "metadata": {
  "kernelspec": {
   "display_name": "Python 3 (ipykernel)",
   "language": "python",
   "name": "python3"
  },
  "language_info": {
   "codemirror_mode": {
    "name": "ipython",
    "version": 3
   },
   "file_extension": ".py",
   "mimetype": "text/x-python",
   "name": "python",
   "nbconvert_exporter": "python",
   "pygments_lexer": "ipython3",
   "version": "3.11.4"
  }
 },
 "nbformat": 4,
 "nbformat_minor": 5
}
