{
 "cells": [
  {
   "cell_type": "code",
   "execution_count": 2,
   "id": "f7b60837",
   "metadata": {},
   "outputs": [],
   "source": [
    "import scipy as sc\n",
    "import numpy as np\n",
    "from mpmath import mp\n",
    "import matplotlib.pyplot as plt\n",
    "from statsmodels.distributions.empirical_distribution import ECDF\n",
    "mp.dps=16"
   ]
  },
  {
   "cell_type": "code",
   "execution_count": 3,
   "id": "b980b53b",
   "metadata": {},
   "outputs": [],
   "source": [
    "def func_1():\n",
    "    data = np.loadtxt(\"sample_2.csv\", delimiter='\\t', dtype=float)\n",
    "    return data"
   ]
  },
  {
   "cell_type": "code",
   "execution_count": 4,
   "id": "47a9f178",
   "metadata": {},
   "outputs": [],
   "source": [
    "data=func_1()"
   ]
  },
  {
   "cell_type": "code",
   "execution_count": 5,
   "id": "a5bf237f",
   "metadata": {},
   "outputs": [],
   "source": [
    "#Критерий Колмогорова"
   ]
  },
  {
   "cell_type": "code",
   "execution_count": 15,
   "id": "2514d62c",
   "metadata": {},
   "outputs": [],
   "source": [
    "def k(n):\n",
    "    A=[]\n",
    "    for i in range(0,n):\n",
    "        A.append(data[i])\n",
    "    F_1=ECDF(A)\n",
    "    x_1=A\n",
    "    for i in range(len(x_1)):\n",
    "        for j in range(i + 1, len(x_1)):\n",
    "            if x_1[i] > x_1[j]:\n",
    "                x_1[i], x_1[j] = x_1[j], x_1[i]\n",
    "    y_1=F_1(x_1)\n",
    "    m=0\n",
    "    m_max=0\n",
    "    m_1=0\n",
    "    m_max_1=0\n",
    "    for i in range(0,n-1):\n",
    "        m=np.abs(y_1[i+1]-x_1[i])\n",
    "        if(m>=m_max):\n",
    "            m_max=m\n",
    "    for i in range(0,n):\n",
    "        m_1=np.abs(y_1[i]-x_1[i])\n",
    "        if(m_1>=m_max_1):\n",
    "            m_max_1=m_1\n",
    "    if m_max_1>=m_max:\n",
    "        m_max=m_max_1\n",
    "    m=np.sqrt(n)*m_max\n",
    "    p=1-sc.stats.kstwobign.cdf(m)\n",
    "    print(\"при n\",n,\"p-value\",p)"
   ]
  },
  {
   "cell_type": "code",
   "execution_count": 16,
   "id": "e42fccfd",
   "metadata": {},
   "outputs": [
    {
     "name": "stdout",
     "output_type": "stream",
     "text": [
      "при n 50 p-value 0.21995713296862351\n",
      "при n 100 p-value 0.12602756251367175\n",
      "при n 1000 p-value 0.36301772196791426\n"
     ]
    }
   ],
   "source": [
    "k(50)\n",
    "k(100)\n",
    "k(1000)"
   ]
  },
  {
   "cell_type": "code",
   "execution_count": 26,
   "id": "4680297f",
   "metadata": {},
   "outputs": [],
   "source": [
    "A=[]\n",
    "for i in range(0,50):\n",
    "    A.append(data[i])\n",
    "F_1=ECDF(A)\n",
    "x_1=A\n",
    "for i in range(len(x_1)):\n",
    "    for j in range(i + 1, len(x_1)):\n",
    "        if x_1[i] > x_1[j]:\n",
    "            x_1[i], x_1[j] = x_1[j], x_1[i]\n",
    "y_1=F_1(x_1)"
   ]
  },
  {
   "cell_type": "code",
   "execution_count": 27,
   "id": "4fa30d31",
   "metadata": {},
   "outputs": [
    {
     "name": "stdout",
     "output_type": "stream",
     "text": [
      "при n 50 p-value 0.37961492758424376\n"
     ]
    }
   ],
   "source": [
    "p=0.2\n",
    "S=0\n",
    "v=np.zeros(5)\n",
    "for i in range(0,5):\n",
    "    for j in range(0,50):\n",
    "        if x_1[j]<=p*(i+1) and x_1[j]>p*i:\n",
    "            v[i]=v[i]+1\n",
    "for i in range(0,5):\n",
    "    S=S+((v[i]-50*p)**2)/(50*p)\n",
    "p=1-sc.stats.chi2.cdf(S,4)\n",
    "print(\"при n\",50,\"p-value\",p)"
   ]
  },
  {
   "cell_type": "code",
   "execution_count": null,
   "id": "6d8c0758",
   "metadata": {},
   "outputs": [],
   "source": []
  }
 ],
 "metadata": {
  "kernelspec": {
   "display_name": "Python 3 (ipykernel)",
   "language": "python",
   "name": "python3"
  },
  "language_info": {
   "codemirror_mode": {
    "name": "ipython",
    "version": 3
   },
   "file_extension": ".py",
   "mimetype": "text/x-python",
   "name": "python",
   "nbconvert_exporter": "python",
   "pygments_lexer": "ipython3",
   "version": "3.11.4"
  }
 },
 "nbformat": 4,
 "nbformat_minor": 5
}
