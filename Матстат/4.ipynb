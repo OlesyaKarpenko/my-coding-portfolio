{
 "cells": [
  {
   "cell_type": "code",
   "execution_count": 1,
   "id": "ff645824",
   "metadata": {},
   "outputs": [],
   "source": [
    "import scipy as sc\n",
    "import numpy as np\n",
    "from mpmath import mp\n",
    "import matplotlib.pyplot as plt\n",
    "from statsmodels.distributions.empirical_distribution import ECDF"
   ]
  },
  {
   "cell_type": "code",
   "execution_count": 2,
   "id": "e840f0fb",
   "metadata": {},
   "outputs": [],
   "source": [
    "def func_1():\n",
    "    data = np.loadtxt(\"sample_4_1.csv\", delimiter='\\t', dtype=float)\n",
    "    return data"
   ]
  },
  {
   "cell_type": "code",
   "execution_count": 3,
   "id": "4c6f8d83",
   "metadata": {},
   "outputs": [],
   "source": [
    "def func_2():\n",
    "    data = np.loadtxt(\"sample_4_2.csv\", delimiter='\\t', dtype=float)\n",
    "    return data"
   ]
  },
  {
   "cell_type": "code",
   "execution_count": 4,
   "id": "984f0301",
   "metadata": {},
   "outputs": [],
   "source": [
    "data_1=func_1()\n",
    "data_2=func_2()"
   ]
  },
  {
   "cell_type": "code",
   "execution_count": 9,
   "id": "7573d422",
   "metadata": {},
   "outputs": [],
   "source": [
    "def func_3(data_1,data_2,eps):\n",
    "    print(\"Эпсилон\",eps)\n",
    "    n=50\n",
    "    m=100\n",
    "    S_1=0\n",
    "    S_2=0\n",
    "    s_1=0\n",
    "    s_2=0\n",
    "    SR_1=0\n",
    "    SR_2=0\n",
    "    S=0\n",
    "    for i in range(0,n):\n",
    "        SR_1 =SR_1+data_1[i]\n",
    "    SR_1 = SR_1 / n\n",
    "    for i in range(0,m):\n",
    "        SR_2 =SR_2+ data_2[i]\n",
    "    SR_2 = SR_2 / m\n",
    "    s_1=np.var(data_1, ddof=1)*(n-1)/n\n",
    "    s_2=np.var(data_2, ddof=1)*(m-1)/m\n",
    "    a=np.abs(SR_1-SR_2)\n",
    "    b=np.sqrt((n*s_1)+(m*s_2))\n",
    "    k=np.sqrt((n+m-2)/((1/n)+(1/m)))\n",
    "    d=a*k/b\n",
    "    c=sc.stats.t.ppf(1-(eps/2),n+m-2)\n",
    "    p=1-sc.stats.t.cdf(d,n+m-2)+sc.stats.t.cdf(-d,n+m-2)\n",
    "    print(\"Расстояние Стьюдента\",d,\"p-value\",p)\n",
    "    print(\"\\n\")"
   ]
  },
  {
   "cell_type": "code",
   "execution_count": 10,
   "id": "daf8e2c5",
   "metadata": {},
   "outputs": [
    {
     "name": "stdout",
     "output_type": "stream",
     "text": [
      "Эпсилон 0.2\n",
      "Расстояние Стьюдента 3.129623663721433 p-value 0.002108896023246297\n",
      "\n",
      "\n",
      "Эпсилон 0.1\n",
      "Расстояние Стьюдента 3.129623663721433 p-value 0.002108896023246297\n",
      "\n",
      "\n",
      "Эпсилон 0.05\n",
      "Расстояние Стьюдента 3.129623663721433 p-value 0.002108896023246297\n",
      "\n",
      "\n"
     ]
    }
   ],
   "source": [
    "func_3(data_1,data_2,0.2)\n",
    "func_3(data_1,data_2,0.1)\n",
    "func_3(data_1,data_2,0.05)"
   ]
  },
  {
   "cell_type": "code",
   "execution_count": null,
   "id": "fd85a108",
   "metadata": {},
   "outputs": [],
   "source": []
  }
 ],
 "metadata": {
  "kernelspec": {
   "display_name": "Python 3 (ipykernel)",
   "language": "python",
   "name": "python3"
  },
  "language_info": {
   "codemirror_mode": {
    "name": "ipython",
    "version": 3
   },
   "file_extension": ".py",
   "mimetype": "text/x-python",
   "name": "python",
   "nbconvert_exporter": "python",
   "pygments_lexer": "ipython3",
   "version": "3.11.4"
  }
 },
 "nbformat": 4,
 "nbformat_minor": 5
}
