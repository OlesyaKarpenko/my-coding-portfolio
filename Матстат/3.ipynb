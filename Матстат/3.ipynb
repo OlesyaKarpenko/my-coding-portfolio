{
 "cells": [
  {
   "cell_type": "code",
   "execution_count": 1,
   "id": "529a9d39",
   "metadata": {},
   "outputs": [],
   "source": [
    "import scipy as sc\n",
    "import numpy as np\n",
    "from mpmath import mp\n",
    "import matplotlib.pyplot as plt\n",
    "from statsmodels.distributions.empirical_distribution import ECDF"
   ]
  },
  {
   "cell_type": "code",
   "execution_count": 2,
   "id": "4fb6fa2f",
   "metadata": {},
   "outputs": [],
   "source": [
    "def func_1():\n",
    "    data = np.loadtxt(\"sample_3_1.csv\", delimiter='\\t', dtype=float)\n",
    "    return data"
   ]
  },
  {
   "cell_type": "code",
   "execution_count": 3,
   "id": "be148876",
   "metadata": {},
   "outputs": [],
   "source": [
    "def func_2():\n",
    "    data = np.loadtxt(\"sample_3_2.csv\", delimiter='\\t', dtype=float)\n",
    "    return data"
   ]
  },
  {
   "cell_type": "code",
   "execution_count": 4,
   "id": "956ba5a2",
   "metadata": {},
   "outputs": [],
   "source": [
    "data_1=func_1()\n",
    "data_2=func_2()"
   ]
  },
  {
   "cell_type": "code",
   "execution_count": 10,
   "id": "9d01375f",
   "metadata": {},
   "outputs": [],
   "source": [
    "def func_3(data_1,data_2,eps):\n",
    "    print(\"Эпсилон\", eps)\n",
    "    n = 50\n",
    "    m = 100\n",
    "    d = np.var(data_1, ddof=1) / np.var(data_2, ddof=1)\n",
    "    t_1 = sc.stats.f.ppf(eps / 2, n - 1, m - 1)\n",
    "    t_2 = sc.stats.f.ppf(1 - (eps / 2), n - 1, m - 1)\n",
    "    print(\"Отношение несмещенных выборочных дисперсий\", d)\n",
    "    print(\"Интервал\", [t_1, t_2])\n",
    "    if d<1:\n",
    "        d=1/d\n",
    "        n, m = m, n\n",
    "    print(\"p-value \",2*(1-sc.stats.f.cdf(d,n-1,m-1)))\n",
    "    print(\"\\n \")"
   ]
  },
  {
   "cell_type": "code",
   "execution_count": 11,
   "id": "7461ca55",
   "metadata": {},
   "outputs": [
    {
     "name": "stdout",
     "output_type": "stream",
     "text": [
      "Эпсилон 0.2\n",
      "Отношение несмещенных выборочных дисперсий 1.1571325525573335\n",
      "Интервал [0.7179986224961196, 1.3579716214453383]\n",
      "p-value  0.5344480232419895\n",
      "\n",
      " \n",
      "Эпсилон 0.1\n",
      "Отношение несмещенных выборочных дисперсий 1.1571325525573335\n",
      "Интервал [0.6531684057858803, 1.4816718677226575]\n",
      "p-value  0.5344480232419895\n",
      "\n",
      " \n",
      "Эпсилон 0.05\n",
      "Отношение несмещенных выборочных дисперсий 1.1571325525573335\n",
      "Интервал [0.6010321720100397, 1.5973853431252312]\n",
      "p-value  0.5344480232419895\n",
      "\n",
      " \n"
     ]
    }
   ],
   "source": [
    "func_3(data_1,data_2,0.2)\n",
    "func_3(data_1,data_2,0.1)\n",
    "func_3(data_1,data_2,0.05)"
   ]
  },
  {
   "cell_type": "code",
   "execution_count": null,
   "id": "18202d12",
   "metadata": {},
   "outputs": [],
   "source": []
  }
 ],
 "metadata": {
  "kernelspec": {
   "display_name": "Python 3 (ipykernel)",
   "language": "python",
   "name": "python3"
  },
  "language_info": {
   "codemirror_mode": {
    "name": "ipython",
    "version": 3
   },
   "file_extension": ".py",
   "mimetype": "text/x-python",
   "name": "python",
   "nbconvert_exporter": "python",
   "pygments_lexer": "ipython3",
   "version": "3.11.4"
  }
 },
 "nbformat": 4,
 "nbformat_minor": 5
}
