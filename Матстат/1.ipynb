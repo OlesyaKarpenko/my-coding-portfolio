{
 "cells": [
  {
   "cell_type": "code",
   "execution_count": 1,
   "id": "15025b8d",
   "metadata": {},
   "outputs": [],
   "source": [
    "import scipy as sc\n",
    "import numpy as np"
   ]
  },
  {
   "cell_type": "code",
   "execution_count": 2,
   "id": "ae822183",
   "metadata": {},
   "outputs": [],
   "source": [
    "def func_1():\n",
    "    data = []\n",
    "    with open(\"sample_1.csv\") as f:\n",
    "        for line in f:\n",
    "            data.append([float(x) for x in line.split()])\n",
    "    f.close()\n",
    "    return data"
   ]
  },
  {
   "cell_type": "code",
   "execution_count": 3,
   "id": "325d5f2c",
   "metadata": {},
   "outputs": [],
   "source": [
    "data=func_1()"
   ]
  },
  {
   "cell_type": "code",
   "execution_count": 4,
   "id": "2ccd9b1e",
   "metadata": {},
   "outputs": [],
   "source": [
    "#ДИ для среднего значения - Когда дисперсия известна"
   ]
  },
  {
   "cell_type": "code",
   "execution_count": 13,
   "id": "7587d963",
   "metadata": {},
   "outputs": [],
   "source": [
    "def func_2(data,eps, n):\n",
    "    k=1-(eps/2)\n",
    "    E=-1.0955747127694153\n",
    "    sgm=np.sqrt(0.8138278836181496)\n",
    "    SR=0\n",
    "    A=[]\n",
    "    for i in range(0,n):\n",
    "        A.append(data[i])\n",
    "    for i in A:\n",
    "        SR+=sum(i)\n",
    "    SR=SR/n\n",
    "    tau=sc.stats.norm.ppf(k, 0, 1) #квантиль\n",
    "    len_1=SR-(sgm*tau)/np.sqrt(n)\n",
    "    len_2=SR+(sgm*tau)/np.sqrt(n)\n",
    "    interv=[len_1,len_2]\n",
    "    print(\"ДИ для\",n,interv)"
   ]
  },
  {
   "cell_type": "code",
   "execution_count": 15,
   "id": "2a89f329",
   "metadata": {},
   "outputs": [
    {
     "name": "stdout",
     "output_type": "stream",
     "text": [
      "ДИ для 50 [-1.1669328212613976, -0.9948305385552784]\n",
      "ДИ для 100 [-1.1532015852164195, -1.0315068940572383]\n",
      "ДИ для 500 [-1.1406483746011946, -1.08622485421464]\n",
      "ДИ для 1000 [-1.130571818798313, -1.092088578476936]\n",
      "ДИ для 5000 [-1.1125427113685327, -1.0953324830979205]\n",
      "ДИ для 10000 [-1.1032362174247665, -1.0910667483088483]\n"
     ]
    }
   ],
   "source": [
    "func_2(data,0.5, 50)\n",
    "func_2(data,0.5, 100)\n",
    "func_2(data,0.5, 500)\n",
    "func_2(data,0.5, 1000)\n",
    "func_2(data,0.5, 5000)\n",
    "func_2(data,0.5, 10000)"
   ]
  },
  {
   "cell_type": "code",
   "execution_count": null,
   "id": "07d0af5b",
   "metadata": {},
   "outputs": [],
   "source": [
    "#ДИ для среднего значения - Когда дисперсия не известна"
   ]
  },
  {
   "cell_type": "code",
   "execution_count": 22,
   "id": "0b8b95e3",
   "metadata": {},
   "outputs": [],
   "source": [
    "def func_3(data,eps,n):\n",
    "    k = 1 - (eps / 2)\n",
    "    E=-1.0955747127694153\n",
    "    sgm=np.sqrt(0.8138278836181496)\n",
    "    SR = 0\n",
    "    S=0\n",
    "    A = []\n",
    "    for i in range(0, n):\n",
    "        A.append(data[i])\n",
    "    for i in A:\n",
    "        SR += sum(i)\n",
    "    SR = SR / n\n",
    "    for i in A:\n",
    "         S+=(sum(i)-SR)**2\n",
    "    S=(1/(n-1))*S\n",
    "    S=np.sqrt(S)\n",
    "    tau = sc.stats.t.ppf(k,n-1) #квантиль\n",
    "    len_1 = SR - (S * tau) / np.sqrt(n)\n",
    "    len_2 = SR + (S * tau) / np.sqrt(n)\n",
    "    interv = [len_1, len_2]\n",
    "    print(\"ДИ для\", n, interv)"
   ]
  },
  {
   "cell_type": "code",
   "execution_count": 23,
   "id": "201c2a63",
   "metadata": {},
   "outputs": [
    {
     "name": "stdout",
     "output_type": "stream",
     "text": [
      "ДИ для 50 [-1.1736289124186738, -0.9881344473980022]\n",
      "ДИ для 100 [-1.1558214094423969, -1.0288870698312609]\n",
      "ДИ для 500 [-1.1411651001381102, -1.0857081286777244]\n",
      "ДИ для 1000 [-1.1308160759239454, -1.0918443213513036]\n",
      "ДИ для 5000 [-1.112518864797449, -1.095356329669004]\n",
      "ДИ для 10000 [-1.1032545929057973, -1.0910483728278175]\n"
     ]
    }
   ],
   "source": [
    "func_3(data,0.5, 50)\n",
    "func_3(data,0.5, 100)\n",
    "func_3(data,0.5, 500)\n",
    "func_3(data,0.5, 1000)\n",
    "func_3(data,0.5, 5000)\n",
    "func_3(data,0.5, 10000)"
   ]
  },
  {
   "cell_type": "code",
   "execution_count": null,
   "id": "db2d86b1",
   "metadata": {},
   "outputs": [],
   "source": [
    "#ДИ для дисперсии - Когда среднее значение известно"
   ]
  },
  {
   "cell_type": "code",
   "execution_count": 26,
   "id": "193dfd09",
   "metadata": {},
   "outputs": [],
   "source": [
    "def func_4(data,eps, n):\n",
    "    k = 1 - (eps / 2)\n",
    "    E=-1.0955747127694153\n",
    "    sgm=np.sqrt(0.8138278836181496)\n",
    "    S = 0\n",
    "    A = []\n",
    "    for i in range(0, n):\n",
    "        A.append(data[i])\n",
    "    for i in A:\n",
    "        S += (sum(i) - E) ** 2\n",
    "    tau_1 = sc.stats.chi2.ppf(eps / 2, n) #квантиль\n",
    "    tau_2 = sc.stats.chi2.ppf(k, n)\n",
    "    len_1 = S / tau_2\n",
    "    len_2 = S / tau_1\n",
    "    interv = [len_1, len_2]\n",
    "    print(\"ДИ для\", n, interv)"
   ]
  },
  {
   "cell_type": "code",
   "execution_count": 27,
   "id": "471ba1a9",
   "metadata": {},
   "outputs": [
    {
     "name": "stdout",
     "output_type": "stream",
     "text": [
      "ДИ для 50 [0.810375578752732, 1.0630918120560968]\n",
      "ДИ для 100 [0.797265958830848, 0.965399843194446]\n",
      "ДИ для 500 [0.8085500439601552, 0.880606843669987]\n",
      "ДИ для 1000 [0.8093179836869974, 0.859661220313426]\n",
      "ДИ для 5000 [0.7984024063916697, 0.8202375261423668]\n",
      "ДИ для 10000 [0.810906498071353, 0.8265255121939775]\n"
     ]
    }
   ],
   "source": [
    "func_4(data,0.5, 50)\n",
    "func_4(data,0.5, 100)\n",
    "func_4(data,0.5, 500)\n",
    "func_4(data,0.5, 1000)\n",
    "func_4(data,0.5, 5000)\n",
    "func_4(data,0.5, 10000)"
   ]
  },
  {
   "cell_type": "code",
   "execution_count": null,
   "id": "39bc47bb",
   "metadata": {},
   "outputs": [],
   "source": [
    "#ДИ для дисперсии - Когда среднее значение не известно"
   ]
  },
  {
   "cell_type": "code",
   "execution_count": 28,
   "id": "3f32cb3d",
   "metadata": {},
   "outputs": [],
   "source": [
    "def func_5(data,eps, n):\n",
    "    k = 1 - (eps / 2)\n",
    "    E=-1.0955747127694153\n",
    "    sgm=np.sqrt(0.8138278836181496)\n",
    "    SR = 0\n",
    "    S = 0\n",
    "    A = []\n",
    "    for i in range(0, n):\n",
    "        A.append(data[i])\n",
    "    for i in A:\n",
    "        SR += sum(i)\n",
    "    SR = SR / n\n",
    "    for i in A:\n",
    "        S += (sum(i) - SR) ** 2\n",
    "    S=S/n\n",
    "    tau_1 = sc.stats.chi2.ppf(eps/2, n - 1)  #квантиль\n",
    "    tau_2 = sc.stats.chi2.ppf(k, n - 1)\n",
    "    len_1 = n*S/tau_2\n",
    "    len_2 = n*S/tau_1\n",
    "    interv = [len_1, len_2]\n",
    "    print(\"ДИ для\", n, interv)"
   ]
  },
  {
   "cell_type": "code",
   "execution_count": 29,
   "id": "64b1381e",
   "metadata": {},
   "outputs": [
    {
     "name": "stdout",
     "output_type": "stream",
     "text": [
      "ДИ для 50 [0.825844616420982, 1.0864115602239817]\n",
      "ДИ для 100 [0.8049859927635816, 0.97569381049587]\n",
      "ДИ для 500 [0.809831551420291, 0.8820780605514077]\n",
      "ДИ для 1000 [0.8098752449190625, 0.8602791379745356]\n",
      "ДИ для 5000 [0.7984920416849196, 0.8203318267809818]\n",
      "ДИ для 10000 [0.810984753567517, 0.826606063590453]\n"
     ]
    }
   ],
   "source": [
    "func_5(data,0.5, 50)\n",
    "func_5(data,0.5, 100)\n",
    "func_5(data,0.5, 500)\n",
    "func_5(data,0.5, 1000)\n",
    "func_5(data,0.5, 5000)\n",
    "func_5(data,0.5, 10000)"
   ]
  },
  {
   "cell_type": "code",
   "execution_count": null,
   "id": "e8d65101",
   "metadata": {},
   "outputs": [],
   "source": []
  }
 ],
 "metadata": {
  "kernelspec": {
   "display_name": "Python 3 (ipykernel)",
   "language": "python",
   "name": "python3"
  },
  "language_info": {
   "codemirror_mode": {
    "name": "ipython",
    "version": 3
   },
   "file_extension": ".py",
   "mimetype": "text/x-python",
   "name": "python",
   "nbconvert_exporter": "python",
   "pygments_lexer": "ipython3",
   "version": "3.11.4"
  }
 },
 "nbformat": 4,
 "nbformat_minor": 5
}
